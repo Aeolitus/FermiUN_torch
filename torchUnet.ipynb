{
 "cells": [
  {
   "cell_type": "code",
   "execution_count": 75,
   "outputs": [],
   "source": [
    "# Import Statements\n",
    "import os\n",
    "import logging\n",
    "import torch\n",
    "from torch import nn\n",
    "from torch.utils.data import Dataset\n",
    "from torch.utils.data import DataLoader\n",
    "from torch.utils.data.sampler import SubsetRandomSampler\n",
    "from torchvision.transforms import CenterCrop\n",
    "import matplotlib.pyplot as plt\n",
    "import numpy as np"
   ],
   "metadata": {
    "collapsed": false,
    "pycharm": {
     "name": "#%%\n"
    }
   }
  },
  {
   "cell_type": "code",
   "execution_count": 76,
   "outputs": [],
   "source": [
    "# Lets define some parameters\n",
    "IMAGE_FOLDER = ['..\\TestData', '..\\TestData2']\n",
    "LOG_FILE = '..\\log.txt'\n",
    "IMAGE_SIZE = 444\n",
    "MASK_RADIUS = 120\n",
    "TEST_SPLIT = .15\n",
    "VALIDATION_SPLIT = .15\n",
    "BATCH_SIZE = 32\n",
    "EPOCHS = 1000\n",
    "LEARNING_RATE = 5e-6\n",
    "FLAG_NOTEBOOK = False"
   ],
   "metadata": {
    "collapsed": false,
    "pycharm": {
     "name": "#%%\n"
    }
   }
  },
  {
   "cell_type": "code",
   "execution_count": 77,
   "outputs": [],
   "source": [
    "logging.basicConfig(filename=LOG_FILE, encoding='utf-8', filemode='w', level=logging.DEBUG, format='%(asctime)s > %(levelname)s : %(message)s')\n",
    "logging.info('FermiUN started!')"
   ],
   "metadata": {
    "collapsed": false,
    "pycharm": {
     "name": "#%%\n"
    }
   }
  },
  {
   "cell_type": "code",
   "execution_count": 78,
   "outputs": [],
   "source": [
    "# Lets write our custom datasets, dataloaders and related functions first\n",
    "class FermiUNDataset(Dataset):\n",
    "    def __init__(self, image_dirs, transform=None, target_transform=None):\n",
    "        self.image_dirs = image_dirs\n",
    "        self.image_list = []\n",
    "        for folder in image_dirs:\n",
    "            _elements = os.listdir(folder)\n",
    "            _elements = [os.path.join(folder, el) for el in _elements]\n",
    "            self.image_list += _elements\n",
    "        self.transform = transform\n",
    "        self.target_transform = target_transform\n",
    "\n",
    "        # Make the mask for our images\n",
    "        _scale = np.arange(IMAGE_SIZE)\n",
    "        _mask = np.zeros((IMAGE_SIZE, IMAGE_SIZE))\n",
    "        _mask[(_scale[np.newaxis, :] - (IMAGE_SIZE - 1) / 2) ** 2\n",
    "             + (_scale[:, np.newaxis] - (IMAGE_SIZE - 1) / 2) ** 2\n",
    "             > MASK_RADIUS ** 2] = 1\n",
    "        self.mask = torch.from_numpy(_mask)\n",
    "\n",
    "    def __len__(self):\n",
    "        return len(self.image_list)\n",
    "\n",
    "    def __getitem__(self, index):\n",
    "        _image = np.load(self.image_list[index])\n",
    "        _image = _image[np.newaxis, ...]\n",
    "        _image = torch.from_numpy(_image)\n",
    "        _masked = _image * self.mask\n",
    "        _target = CenterCrop([2*MASK_RADIUS, 2*MASK_RADIUS])(_image)\n",
    "        if self.transform:\n",
    "            _masked = self.transform(_masked)\n",
    "        if self.target_transform:\n",
    "            _target = self.target_transform(_target)\n",
    "        return _masked, _target\n",
    "\n",
    "FermiUNData = FermiUNDataset(IMAGE_FOLDER)\n",
    "\n",
    "# Split into training, validation, test\n",
    "dataset_size = len(FermiUNData)\n",
    "dataset_indices = list(range(dataset_size))\n",
    "np.random.seed(42)\n",
    "np.random.shuffle(dataset_indices)\n",
    "first_split, second_split = int(np.floor(VALIDATION_SPLIT*dataset_size)), \\\n",
    "                            dataset_size-int(np.floor(TEST_SPLIT*dataset_size))\n",
    "validation_indices, train_indices, test_indices = dataset_indices[:first_split], \\\n",
    "                                                  dataset_indices[first_split:second_split], \\\n",
    "                                                  dataset_indices[second_split:]\n",
    "\n",
    "FermiUNLoaderTraining = DataLoader(FermiUNData, batch_size=BATCH_SIZE,\n",
    "                                   sampler=SubsetRandomSampler(train_indices))\n",
    "FermiUNLoaderValidation = DataLoader(FermiUNData, batch_size=BATCH_SIZE,\n",
    "                                     sampler=SubsetRandomSampler(validation_indices))\n",
    "FermiUNLoaderTesting = DataLoader(FermiUNData, batch_size=BATCH_SIZE,\n",
    "                                  sampler=SubsetRandomSampler(test_indices))"
   ],
   "metadata": {
    "collapsed": false,
    "pycharm": {
     "name": "#%%\n"
    }
   }
  },
  {
   "cell_type": "code",
   "execution_count": 79,
   "outputs": [],
   "source": [
    "# Test our Dataloader\n",
    "if FLAG_NOTEBOOK:\n",
    "    figure = plt.figure(figsize=(16,10))\n",
    "    test_image,target_image = next(iter(FermiUNLoaderTesting))\n",
    "    for i in range(1,5):\n",
    "        figure.add_subplot(2,4,i)\n",
    "        plt.title(f'Test Image {i}')\n",
    "        plt.axis('off')\n",
    "        plt.imshow(test_image[i,0,:,:], cmap=\"gray\")\n",
    "        figure.add_subplot(2,4,i+4)\n",
    "        plt.title(f'Target Image {i}')#    plt.axis('off')\n",
    "        plt.imshow(target_image[i,0,:,:], cmap=\"gray\")\n",
    "    plt.show()"
   ],
   "metadata": {
    "collapsed": false,
    "pycharm": {
     "name": "#%%\n"
    }
   }
  },
  {
   "cell_type": "code",
   "execution_count": 80,
   "outputs": [],
   "source": [
    "# Do we have a gpu?\n",
    "if FLAG_NOTEBOOK:\n",
    "    device = \"cpu\"\n",
    "    print(f\"Using {device} device!\")\n",
    "else:\n",
    "    if torch.cuda.is_available():\n",
    "        device = \"cuda\"\n",
    "        logging.info(\"Using cuda device!\")\n",
    "    else:\n",
    "        device = \"cpu\"\n",
    "        logging.warning(\"Cuda device unavailable, using cpu!\")"
   ],
   "metadata": {
    "collapsed": false,
    "pycharm": {
     "name": "#%%\n"
    }
   }
  },
  {
   "cell_type": "code",
   "execution_count": 81,
   "outputs": [],
   "source": [
    "# Lets define our model\n",
    "class EncoderBlock(nn.Module):\n",
    "    def __init__(self, channels_in, channels_out):\n",
    "        super().__init__()\n",
    "        self.conv1 = nn.Conv2d(channels_in, channels_out, 3)\n",
    "        self.relu = nn.ReLU()\n",
    "        self.conv2 = nn.Conv2d(channels_out, channels_out, 3)\n",
    "\n",
    "    def forward(self, x):\n",
    "        return self.relu(self.conv2(self.relu(self.conv1(x))))\n",
    "\n",
    "class Encoder(nn.Module):\n",
    "    def __init__(self, channels=(1, 16, 32, 64, 128, 256)):\n",
    "        super().__init__()\n",
    "        self.EncoderBlocks = nn.ModuleList(\n",
    "            [EncoderBlock(channels[i], channels[i+1])\n",
    "             for i in range(len(channels)-1)])\n",
    "        self.MaxPool = nn.MaxPool2d(2)\n",
    "\n",
    "    def forward(self, x):\n",
    "        outputs = []\n",
    "        for block in self.EncoderBlocks:\n",
    "            x = block(x)\n",
    "            outputs.append(x)\n",
    "            x = self.MaxPool(x)\n",
    "        return outputs\n",
    "\n",
    "class Decoder(nn.Module):\n",
    "    def __init__(self, channels=(256, 128, 64, 32, 16)):\n",
    "        super().__init__()\n",
    "        self.channels = channels\n",
    "        self.UpConvolutions = nn.ModuleList(\n",
    "            [nn.ConvTranspose2d(channels[i], channels[i+1], 2, 2)\n",
    "             for i in range(len(channels)-1)])\n",
    "        self.DecoderBlocks = nn.ModuleList(\n",
    "            [EncoderBlock(channels[i], channels[i+1])\n",
    "             for i in range(len(channels)-1)])\n",
    "\n",
    "    def crop(self, encoder_features, x):\n",
    "        # crop the encoder features to match the current dimensions\n",
    "        _,_,height,width = x.shape\n",
    "        encoder_features = CenterCrop([height, width])(encoder_features)\n",
    "        return encoder_features\n",
    "\n",
    "    def forward(self, x, encoder_features):\n",
    "        for i in range(len(self.channels)-1):\n",
    "            x = self.UpConvolutions[i](x)\n",
    "            cropped_feature = self.crop(encoder_features[i], x)\n",
    "            x = torch.cat([x, cropped_feature], dim=1)\n",
    "            x = self.DecoderBlocks[i](x)\n",
    "        return x\n",
    "\n",
    "class Head(nn.Module):\n",
    "    def __init__(self, height, width, channels):\n",
    "        super().__init__()\n",
    "        self.height = height\n",
    "        self.width = width\n",
    "        self.head = nn.Conv2d(channels, 1, 1)\n",
    "\n",
    "    def forward(self, x):\n",
    "        x = self.head(x)\n",
    "        x = CenterCrop([self.height, self.width])(x)\n",
    "        return x\n",
    "\n",
    "class Unet(nn.Module):\n",
    "    def __init__(self, encoder_channels=(1, 16, 32, 64, 128, 256), decoder_channels=(256, 128, 64, 32, 16)):\n",
    "        super().__init__()\n",
    "        self.flatten = nn.Flatten()\n",
    "        self.encoder = Encoder(encoder_channels)\n",
    "        self.decoder = Decoder(decoder_channels)\n",
    "        self.head = Head(2*MASK_RADIUS, 2*MASK_RADIUS, decoder_channels[-1])\n",
    "\n",
    "    def forward(self, x):\n",
    "        encoder_features = self.encoder(x)\n",
    "        decoder_features = self.decoder(encoder_features[::-1][0], encoder_features[::-1][1:])\n",
    "        out = self.head(decoder_features)\n",
    "        return out\n",
    "\n",
    "model = Unet().to(device)\n",
    "if FLAG_NOTEBOOK:\n",
    "    print(model)"
   ],
   "metadata": {
    "collapsed": false,
    "pycharm": {
     "name": "#%%\n"
    }
   }
  },
  {
   "cell_type": "code",
   "execution_count": 82,
   "outputs": [],
   "source": [
    "# Test the encoder and decoder definitions\n",
    "if FLAG_NOTEBOOK:\n",
    "    encoder = Encoder()#\n",
    "    x = torch.randn(1, 1, 444, 444)\n",
    "    ftrs = encoder(x)\n",
    "    for ftr in ftrs: print(ftr.shape)\n",
    "\n",
    "    decoder = Decoder()\n",
    "    x = decoder(ftrs[::-1][0], ftrs[::-1][1:])\n",
    "\n",
    "    head = Head(2*MASK_RADIUS, 2*MASK_RADIUS, 16)\n",
    "    y = head(x)\n",
    "    print(y.shape)"
   ],
   "metadata": {
    "collapsed": false,
    "pycharm": {
     "name": "#%%\n"
    }
   }
  },
  {
   "cell_type": "code",
   "execution_count": 83,
   "outputs": [],
   "source": [
    "# Training Loops\n",
    "def training_loop(dataloader, model, loss_function, optimizer):\n",
    "    for batch, (X,y) in enumerate(dataloader):\n",
    "        X,y = X.float().to(device),y.float().to(device)\n",
    "        prediction = model(X)\n",
    "        loss = loss_function(prediction,y)\n",
    "\n",
    "        optimizer.zero_grad()\n",
    "        loss.backward()\n",
    "        optimizer.step()\n",
    "\n",
    "        if batch%100 == 0:\n",
    "            loss,current = loss.item(), batch*len(X)\n",
    "            if FLAG_NOTEBOOK:\n",
    "                print(f\"Loss: {loss:>7f} [{current:>5d}/{len(dataloader.dataset):>5d}]\")\n",
    "            else:\n",
    "                logging.info(f\"Loss: {loss:>7f} [{current:>5d}/{len(dataloader.dataset):>5d}]\")\n",
    "def no_inference_loop(dataloader, model, loss_function):\n",
    "    num_batches = len(dataloader)\n",
    "    loss = 0\n",
    "\n",
    "    with torch.no_grad():\n",
    "        for X,y in dataloader:\n",
    "            X,y = X.float().to(device),y.float().to(device)\n",
    "            prediction = model(X)\n",
    "            loss += loss_function(prediction,y).item()\n",
    "        loss /= num_batches\n",
    "    return loss\n",
    "\n",
    "def test_loop(dataloader, model, loss_function):\n",
    "    loss = no_inference_loop(dataloader, model, loss_function)\n",
    "    if FLAG_NOTEBOOK:\n",
    "        print(f\"Average loss in test dataset: {loss:>8f}\")\n",
    "    else:\n",
    "        logging.info(f\"Average loss in test dataset: {loss:>8f}\")\n",
    "\n",
    "def validation_loop(dataloader, model, loss_function):\n",
    "    loss = no_inference_loop(dataloader, model, loss_function)\n",
    "    if FLAG_NOTEBOOK:\n",
    "        print(f\"Validation loss: {loss:>7f}\")\n",
    "    else:\n",
    "        logging.info(f\"Validation loss: {loss:>7f}\")"
   ],
   "metadata": {
    "collapsed": false,
    "pycharm": {
     "name": "#%%\n"
    }
   }
  },
  {
   "cell_type": "code",
   "execution_count": 84,
   "outputs": [
    {
     "ename": "KeyboardInterrupt",
     "evalue": "",
     "output_type": "error",
     "traceback": [
      "\u001B[1;31m---------------------------------------------------------------------------\u001B[0m",
      "\u001B[1;31mKeyboardInterrupt\u001B[0m                         Traceback (most recent call last)",
      "Input \u001B[1;32mIn [84]\u001B[0m, in \u001B[0;36m<cell line: 5>\u001B[1;34m()\u001B[0m\n\u001B[0;32m      8\u001B[0m     \u001B[38;5;28;01melse\u001B[39;00m:\n\u001B[0;32m      9\u001B[0m         logging\u001B[38;5;241m.\u001B[39minfo(\u001B[38;5;124mf\u001B[39m\u001B[38;5;124m\"\u001B[39m\u001B[38;5;124mEpoch \u001B[39m\u001B[38;5;132;01m{\u001B[39;00mepoch\u001B[38;5;241m+\u001B[39m\u001B[38;5;241m1\u001B[39m\u001B[38;5;132;01m}\u001B[39;00m\u001B[38;5;130;01m\\n\u001B[39;00m\u001B[38;5;124m--------------------------\u001B[39m\u001B[38;5;124m\"\u001B[39m)\n\u001B[1;32m---> 10\u001B[0m     \u001B[43mtraining_loop\u001B[49m\u001B[43m(\u001B[49m\u001B[43mFermiUNLoaderTraining\u001B[49m\u001B[43m,\u001B[49m\u001B[43m \u001B[49m\u001B[43mmodel\u001B[49m\u001B[43m,\u001B[49m\u001B[43m \u001B[49m\u001B[43mloss_function\u001B[49m\u001B[43m,\u001B[49m\u001B[43m \u001B[49m\u001B[43moptimizer\u001B[49m\u001B[43m)\u001B[49m\n\u001B[0;32m     11\u001B[0m     validation_loop(FermiUNLoaderValidation, model, loss_function)\n\u001B[0;32m     12\u001B[0m test_loop(FermiUNLoaderTesting, model, loss_function)\n",
      "Input \u001B[1;32mIn [83]\u001B[0m, in \u001B[0;36mtraining_loop\u001B[1;34m(dataloader, model, loss_function, optimizer)\u001B[0m\n\u001B[0;32m      6\u001B[0m loss \u001B[38;5;241m=\u001B[39m loss_function(prediction,y)\n\u001B[0;32m      8\u001B[0m optimizer\u001B[38;5;241m.\u001B[39mzero_grad()\n\u001B[1;32m----> 9\u001B[0m \u001B[43mloss\u001B[49m\u001B[38;5;241;43m.\u001B[39;49m\u001B[43mbackward\u001B[49m\u001B[43m(\u001B[49m\u001B[43m)\u001B[49m\n\u001B[0;32m     10\u001B[0m optimizer\u001B[38;5;241m.\u001B[39mstep()\n\u001B[0;32m     12\u001B[0m \u001B[38;5;28;01mif\u001B[39;00m batch\u001B[38;5;241m%\u001B[39m\u001B[38;5;241m100\u001B[39m \u001B[38;5;241m==\u001B[39m \u001B[38;5;241m0\u001B[39m:\n",
      "File \u001B[1;32m~\\anaconda3\\envs\\torchtest\\lib\\site-packages\\torch\\_tensor.py:363\u001B[0m, in \u001B[0;36mTensor.backward\u001B[1;34m(self, gradient, retain_graph, create_graph, inputs)\u001B[0m\n\u001B[0;32m    354\u001B[0m \u001B[38;5;28;01mif\u001B[39;00m has_torch_function_unary(\u001B[38;5;28mself\u001B[39m):\n\u001B[0;32m    355\u001B[0m     \u001B[38;5;28;01mreturn\u001B[39;00m handle_torch_function(\n\u001B[0;32m    356\u001B[0m         Tensor\u001B[38;5;241m.\u001B[39mbackward,\n\u001B[0;32m    357\u001B[0m         (\u001B[38;5;28mself\u001B[39m,),\n\u001B[1;32m   (...)\u001B[0m\n\u001B[0;32m    361\u001B[0m         create_graph\u001B[38;5;241m=\u001B[39mcreate_graph,\n\u001B[0;32m    362\u001B[0m         inputs\u001B[38;5;241m=\u001B[39minputs)\n\u001B[1;32m--> 363\u001B[0m \u001B[43mtorch\u001B[49m\u001B[38;5;241;43m.\u001B[39;49m\u001B[43mautograd\u001B[49m\u001B[38;5;241;43m.\u001B[39;49m\u001B[43mbackward\u001B[49m\u001B[43m(\u001B[49m\u001B[38;5;28;43mself\u001B[39;49m\u001B[43m,\u001B[49m\u001B[43m \u001B[49m\u001B[43mgradient\u001B[49m\u001B[43m,\u001B[49m\u001B[43m \u001B[49m\u001B[43mretain_graph\u001B[49m\u001B[43m,\u001B[49m\u001B[43m \u001B[49m\u001B[43mcreate_graph\u001B[49m\u001B[43m,\u001B[49m\u001B[43m \u001B[49m\u001B[43minputs\u001B[49m\u001B[38;5;241;43m=\u001B[39;49m\u001B[43minputs\u001B[49m\u001B[43m)\u001B[49m\n",
      "File \u001B[1;32m~\\anaconda3\\envs\\torchtest\\lib\\site-packages\\torch\\autograd\\__init__.py:173\u001B[0m, in \u001B[0;36mbackward\u001B[1;34m(tensors, grad_tensors, retain_graph, create_graph, grad_variables, inputs)\u001B[0m\n\u001B[0;32m    168\u001B[0m     retain_graph \u001B[38;5;241m=\u001B[39m create_graph\n\u001B[0;32m    170\u001B[0m \u001B[38;5;66;03m# The reason we repeat same the comment below is that\u001B[39;00m\n\u001B[0;32m    171\u001B[0m \u001B[38;5;66;03m# some Python versions print out the first line of a multi-line function\u001B[39;00m\n\u001B[0;32m    172\u001B[0m \u001B[38;5;66;03m# calls in the traceback and some print out the last line\u001B[39;00m\n\u001B[1;32m--> 173\u001B[0m \u001B[43mVariable\u001B[49m\u001B[38;5;241;43m.\u001B[39;49m\u001B[43m_execution_engine\u001B[49m\u001B[38;5;241;43m.\u001B[39;49m\u001B[43mrun_backward\u001B[49m\u001B[43m(\u001B[49m\u001B[43m  \u001B[49m\u001B[38;5;66;43;03m# Calls into the C++ engine to run the backward pass\u001B[39;49;00m\n\u001B[0;32m    174\u001B[0m \u001B[43m    \u001B[49m\u001B[43mtensors\u001B[49m\u001B[43m,\u001B[49m\u001B[43m \u001B[49m\u001B[43mgrad_tensors_\u001B[49m\u001B[43m,\u001B[49m\u001B[43m \u001B[49m\u001B[43mretain_graph\u001B[49m\u001B[43m,\u001B[49m\u001B[43m \u001B[49m\u001B[43mcreate_graph\u001B[49m\u001B[43m,\u001B[49m\u001B[43m \u001B[49m\u001B[43minputs\u001B[49m\u001B[43m,\u001B[49m\n\u001B[0;32m    175\u001B[0m \u001B[43m    \u001B[49m\u001B[43mallow_unreachable\u001B[49m\u001B[38;5;241;43m=\u001B[39;49m\u001B[38;5;28;43;01mTrue\u001B[39;49;00m\u001B[43m,\u001B[49m\u001B[43m \u001B[49m\u001B[43maccumulate_grad\u001B[49m\u001B[38;5;241;43m=\u001B[39;49m\u001B[38;5;28;43;01mTrue\u001B[39;49;00m\u001B[43m)\u001B[49m\n",
      "\u001B[1;31mKeyboardInterrupt\u001B[0m: "
     ]
    }
   ],
   "source": [
    "# Train the network\n",
    "torch.cuda.empty_cache()\n",
    "loss_function = nn.MSELoss()\n",
    "optimizer = torch.optim.Adam(model.parameters(), lr=LEARNING_RATE)\n",
    "for epoch in range(EPOCHS):\n",
    "    if FLAG_NOTEBOOK:\n",
    "        print(f\"Epoch {epoch+1}\\n--------------------------\")\n",
    "    else:\n",
    "        logging.info(f\"Epoch {epoch+1}\\n--------------------------\")\n",
    "    training_loop(FermiUNLoaderTraining, model, loss_function, optimizer)\n",
    "    validation_loop(FermiUNLoaderValidation, model, loss_function)\n",
    "test_loop(FermiUNLoaderTesting, model, loss_function)\n",
    "logging.info(f\"Training complete.\")"
   ],
   "metadata": {
    "collapsed": false,
    "pycharm": {
     "name": "#%%\n"
    }
   }
  },
  {
   "cell_type": "code",
   "execution_count": null,
   "outputs": [],
   "source": [],
   "metadata": {
    "collapsed": false,
    "pycharm": {
     "name": "#%%\n"
    }
   }
  }
 ],
 "metadata": {
  "kernelspec": {
   "display_name": "Python 3",
   "language": "python",
   "name": "python3"
  },
  "language_info": {
   "codemirror_mode": {
    "name": "ipython",
    "version": 2
   },
   "file_extension": ".py",
   "mimetype": "text/x-python",
   "name": "python",
   "nbconvert_exporter": "python",
   "pygments_lexer": "ipython2",
   "version": "2.7.6"
  }
 },
 "nbformat": 4,
 "nbformat_minor": 0
}